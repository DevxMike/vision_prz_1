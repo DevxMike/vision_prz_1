{
 "cells": [
  {
   "cell_type": "code",
   "execution_count": 1,
   "metadata": {},
   "outputs": [],
   "source": [
    "import numpy as np\n",
    "import matplotlib as plt\n",
    "import tensorflow as tf\n",
    "from tensorflow import keras\n",
    "from tensorflow.keras import layers\n",
    "from PIL import Image\n",
    "from os import listdir\n",
    "import os\n",
    "import glob\n",
    "\n",
    "import xml.etree.ElementTree as ET\n",
    "\n",
    "# tmp = keras.utils.load_img(\n",
    "#             'dataset/images/road0.png',\n",
    "#             color_mode = 'grayscale',\n",
    "#             target_size=(180, 180)\n",
    "#         )"
   ]
  },
  {
   "cell_type": "code",
   "execution_count": 2,
   "metadata": {},
   "outputs": [],
   "source": [
    "model_big = keras.models.load_model('model_huge.keras')\n",
    "model_medium = keras.models.load_model('model_medium.keras')\n",
    "model_small = keras.models.load_model('model_small.keras')"
   ]
  },
  {
   "cell_type": "code",
   "execution_count": 3,
   "metadata": {},
   "outputs": [],
   "source": [
    "labels_path = 'dataset/annotations/'\n",
    "img_path = 'dataset/images/'\n",
    "\n",
    "label_files = sorted(listdir(labels_path))\n",
    "img_files = sorted(listdir(img_path))\n",
    "\n",
    "cathegories = ['trafficlight', 'stop', 'speedlimit', 'crosswalk']\n",
    "\n",
    "assert len(label_files) == len(img_files) # sprawdzenie, czy ilość zdjęć pokrywa się z ilością labeli\n",
    "\n",
    "for i in range(len(label_files)): # sprawdzenie, czy nazwy plików i zdjęć są w odpowiedniej kolejności\n",
    "    assert(label_files[i][:-4] == img_files[i][:-4])\n",
    "\n",
    "def get_class_vector(classes): \n",
    "    tmp = [0, 0, 0, 0]\n",
    "\n",
    "    for i in range(4):\n",
    "        if(cathegories[i] in classes):\n",
    "            tmp[i] = 1\n",
    "    \n",
    "    return tmp\n",
    "\n",
    "\n",
    "label_vectors = []\n",
    "\n",
    "for i in range(len(label_files)):\n",
    "    xml_data = open('dataset/annotations/' + label_files[i], 'r').read()\n",
    "    root = ET.XML(xml_data)\n",
    "    \n",
    "    data = []\n",
    "    \n",
    "    for i in root.findall('object'):\n",
    "        c = i.find('name').text\n",
    "        data.append(c)\n",
    "    label_vectors.append(get_class_vector(data))\n",
    "\n",
    "img_vector = []\n",
    "\n",
    "for i in range(len(img_files)):\n",
    "    img_vector.append(np.array(\n",
    "        keras.utils.load_img(\n",
    "            img_path + img_files[i],\n",
    "            color_mode = 'grayscale',\n",
    "            target_size=(180, 180)\n",
    "        )).astype(\"float32\")\n",
    "    )"
   ]
  },
  {
   "cell_type": "code",
   "execution_count": 12,
   "metadata": {},
   "outputs": [
    {
     "name": "stdout",
     "output_type": "stream",
     "text": [
      "7/7 [==============================] - 3s 424ms/step - loss: 2.5534 - accuracy: 0.7450\n",
      "7/7 [==============================] - 5s 625ms/step - loss: 2.7306 - accuracy: 0.6950\n",
      "7/7 [==============================] - 5s 694ms/step - loss: 0.6073 - accuracy: 0.7250\n"
     ]
    },
    {
     "data": {
      "text/plain": [
       "[0.6072667837142944, 0.7250000238418579]"
      ]
     },
     "execution_count": 12,
     "metadata": {},
     "output_type": "execute_result"
    }
   ],
   "source": [
    "in_values = np.array(img_vector[-200:])\n",
    "targets = np.array(label_vectors[-200:])\n",
    "\n",
    "# predict_big = model_big.predict(in_values)\n",
    "# predict_medium = model_medium.predict(in_values)\n",
    "# predict_small = model_small.predict(in_values)\n",
    "\n",
    "model_small.evaluate(in_values, targets)\n",
    "model_medium.evaluate(in_values, targets)\n",
    "model_big.evaluate(in_values, targets)\n",
    "\n",
    "# def evaluate(pred, targets):\n",
    "#     return np.sum(np.abs(pred - targets)) / len(pred)\n",
    "\n",
    "# print(f'error big model: {evaluate(predict_big, targets)}\\nerror medium model: {evaluate(predict_medium, targets)}\\nerror small model: {evaluate(predict_small, targets)}')"
   ]
  },
  {
   "cell_type": "code",
   "execution_count": null,
   "metadata": {},
   "outputs": [],
   "source": []
  }
 ],
 "metadata": {
  "kernelspec": {
   "display_name": "Python 3",
   "language": "python",
   "name": "python3"
  },
  "language_info": {
   "codemirror_mode": {
    "name": "ipython",
    "version": 3
   },
   "file_extension": ".py",
   "mimetype": "text/x-python",
   "name": "python",
   "nbconvert_exporter": "python",
   "pygments_lexer": "ipython3",
   "version": "3.9.7"
  },
  "orig_nbformat": 4,
  "vscode": {
   "interpreter": {
    "hash": "c347c8f9a7ef94e4c9e03b4513be7835ed18f45b99a2a817fb579f408b867b16"
   }
  }
 },
 "nbformat": 4,
 "nbformat_minor": 2
}
